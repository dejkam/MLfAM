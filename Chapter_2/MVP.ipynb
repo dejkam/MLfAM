{
 "cells": [
  {
   "cell_type": "markdown",
   "metadata": {},
   "source": [
    "## Minimum Variance Portfolio\n",
    "### "
   ]
  },
  {
   "cell_type": "code",
   "execution_count": 1,
   "metadata": {},
   "outputs": [],
   "source": [
    "import numpy as np\n",
    "import pandas as pd\n",
    "from scipy.linalg import block_diag\n",
    "from sklearn.covariance import LedoitWolf"
   ]
  },
  {
   "cell_type": "code",
   "execution_count": 22,
   "metadata": {},
   "outputs": [],
   "source": [
    "## Forming an vector of means and a covarianc matrix out of ten blocks of size fifty each\n",
    "## where off-diagonal elements within each block have a correlation of 0.5.\n",
    "## This covariance matrix is a stylized representation of a true detoned correlation matrix of\n",
    "## the S&P 500, where each block is associated with an econmic sector.\n",
    "## Without loss of generality, the variances are drawn from a uniform distribution bounded\n",
    "## between 5% and 20%, and the vecotr of mean is drawn from a normal distribution with mean and\n",
    "## std equal to the std of the covariance matrix. This is consistent with the notion that in an\n",
    "## efficient market all securities hace the same expected Sharpe ratio.\n",
    "\n",
    "def formBlockMatrix(nBlocks, bSize, bCorr):\n",
    "    block = np.ones((bSize, bSize)) * bCorr\n",
    "    block[range(bSize), range(bSize)] = 1\n",
    "    corr = block_diag(*([block] * nBlocks))\n",
    "    return corr"
   ]
  },
  {
   "cell_type": "code",
   "execution_count": 23,
   "metadata": {},
   "outputs": [],
   "source": [
    "def corr2cov(corr, std):\n",
    "    cov = corr*np.outer(std, std)\n",
    "    return cov"
   ]
  },
  {
   "cell_type": "code",
   "execution_count": 27,
   "metadata": {},
   "outputs": [],
   "source": [
    "def FormTrueMatrix(nBlocks, bSize, bCorr):\n",
    "    corr0 = formBlockMatrix(nBlocks, bSize, bCorr)\n",
    "    corr0 = pd.DataFrame(corr0)\n",
    "    print(corr0)\n",
    "    cols = corr0.columns.tolist()\n",
    "    print(cols)\n",
    "    #Randomly shuffling the columns (and the corresponding rows)\n",
    "    # to change the ordering of the variables while preserving symmetry.\n",
    "    np.random.shuffle(cols)\n",
    "    print(cols)\n",
    "    corr0 = corr0[cols].loc[cols].copy(deep=True)\n",
    "    print(corr0)\n",
    "    std0 = np.random.uniform(0.05, 0.2, corr0.shape[0])\n",
    "    cov0 = corr2cov(corr0, std0)\n",
    "    mu0 = np.random.normal(std0, std0, cov0.shape[0]).reshape(-1,1)\n",
    "    return mu0, cov0, cols"
   ]
  },
  {
   "cell_type": "code",
   "execution_count": 28,
   "metadata": {},
   "outputs": [
    {
     "name": "stdout",
     "output_type": "stream",
     "text": [
      "     0    1    2    3    4    5    6    7    8    9\n",
      "0  1.0  0.5  0.5  0.5  0.5  0.0  0.0  0.0  0.0  0.0\n",
      "1  0.5  1.0  0.5  0.5  0.5  0.0  0.0  0.0  0.0  0.0\n",
      "2  0.5  0.5  1.0  0.5  0.5  0.0  0.0  0.0  0.0  0.0\n",
      "3  0.5  0.5  0.5  1.0  0.5  0.0  0.0  0.0  0.0  0.0\n",
      "4  0.5  0.5  0.5  0.5  1.0  0.0  0.0  0.0  0.0  0.0\n",
      "5  0.0  0.0  0.0  0.0  0.0  1.0  0.5  0.5  0.5  0.5\n",
      "6  0.0  0.0  0.0  0.0  0.0  0.5  1.0  0.5  0.5  0.5\n",
      "7  0.0  0.0  0.0  0.0  0.0  0.5  0.5  1.0  0.5  0.5\n",
      "8  0.0  0.0  0.0  0.0  0.0  0.5  0.5  0.5  1.0  0.5\n",
      "9  0.0  0.0  0.0  0.0  0.0  0.5  0.5  0.5  0.5  1.0\n",
      "[0, 1, 2, 3, 4, 5, 6, 7, 8, 9]\n",
      "[2, 8, 4, 9, 1, 6, 7, 3, 0, 5]\n",
      "     2    8    4    9    1    6    7    3    0    5\n",
      "2  1.0  0.0  0.5  0.0  0.5  0.0  0.0  0.5  0.5  0.0\n",
      "8  0.0  1.0  0.0  0.5  0.0  0.5  0.5  0.0  0.0  0.5\n",
      "4  0.5  0.0  1.0  0.0  0.5  0.0  0.0  0.5  0.5  0.0\n",
      "9  0.0  0.5  0.0  1.0  0.0  0.5  0.5  0.0  0.0  0.5\n",
      "1  0.5  0.0  0.5  0.0  1.0  0.0  0.0  0.5  0.5  0.0\n",
      "6  0.0  0.5  0.0  0.5  0.0  1.0  0.5  0.0  0.0  0.5\n",
      "7  0.0  0.5  0.0  0.5  0.0  0.5  1.0  0.0  0.0  0.5\n",
      "3  0.5  0.0  0.5  0.0  0.5  0.0  0.0  1.0  0.5  0.0\n",
      "0  0.5  0.0  0.5  0.0  0.5  0.0  0.0  0.5  1.0  0.0\n",
      "5  0.0  0.5  0.0  0.5  0.0  0.5  0.5  0.0  0.0  1.0\n"
     ]
    }
   ],
   "source": [
    "np.random.seed(0)\n",
    "mu0, cov0, cols = FormTrueMatrix(2, 5, 0.5)"
   ]
  },
  {
   "cell_type": "code",
   "execution_count": 26,
   "metadata": {},
   "outputs": [
    {
     "data": {
      "text/plain": [
       "[2, 8, 4, 9, 1, 6, 7, 3, 0, 5]"
      ]
     },
     "execution_count": 26,
     "metadata": {},
     "output_type": "execute_result"
    }
   ],
   "source": [
    "cols"
   ]
  }
 ],
 "metadata": {
  "kernelspec": {
   "display_name": "GYM",
   "language": "python",
   "name": "gym"
  },
  "language_info": {
   "codemirror_mode": {
    "name": "ipython",
    "version": 3
   },
   "file_extension": ".py",
   "mimetype": "text/x-python",
   "name": "python",
   "nbconvert_exporter": "python",
   "pygments_lexer": "ipython3",
   "version": "3.11.9"
  }
 },
 "nbformat": 4,
 "nbformat_minor": 2
}
